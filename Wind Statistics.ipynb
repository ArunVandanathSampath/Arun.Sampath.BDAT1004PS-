{
  "metadata": {
    "language_info": {
      "codemirror_mode": {
        "name": "python",
        "version": 3
      },
      "file_extension": ".py",
      "mimetype": "text/x-python",
      "name": "python",
      "nbconvert_exporter": "python",
      "pygments_lexer": "ipython3",
      "version": "3.8"
    },
    "kernelspec": {
      "name": "python",
      "display_name": "Python (Pyodide)",
      "language": "python"
    }
  },
  "nbformat_minor": 4,
  "nbformat": 4,
  "cells": [
    {
      "cell_type": "markdown",
      "source": "# Wind Statistics \nThe data have been modified to contain some missing values, identified by NaN.\nUsing pandas should make this exercise easier, in particular for the bonus question.\nYou should be able to perform all of these operations without using a for loop or \nother looping construct.\nThe data in 'wind.data' has the following format:\nYr Mo Dy RPT VAL ROS KIL SHA BIR DUB CLA MUL CLO BEL \nMAL\n61 1 1 15.04 14.96 13.17 9.29 NaN 9.87 13.67 10.25 10.83 12.58 18.50 15.04\n61 1 2 14.71 NaN 10.83 6.50 12.62 7.67 11.50 10.04 9.79 9.67 17.54 13.83\n61 1 3 18.50 16.88 12.33 10.13 11.17 6.17 11.25 NaN 8.50 7.67 12.75 12.71\n\nThe first three columns are year,month, and day. The remaining 12 columns are average windspeeds in knots at 12 locations in Ireland on that day",
      "metadata": {}
    },
    {
      "cell_type": "code",
      "source": "import pandas as pd\n\ndef fix_year(x):\n    if x.year > 2000:\n        year = x.year - 100\n    else:\n        year = x.year\n    return pd.datetime(year, x.month, x.day)\n\n# import the wind.txt file as a pandas DataFrame\ndata = pd.read_csv('wind.txt', delim_whitespace=True)\n\ndata[\"Yr\"]=\"20\"+data['Yr'].astype(str)\ndata.rename(columns = {'Yr':'year','Mo':'month','Dy':'day'}, inplace=True)\ndata.index=pd.to_datetime(data[['year', 'month', 'day']])\ndata = data.drop(['year', 'month', 'day'], axis=1)\n\n\n# Apply the function to the index\ndata.index = data.index.map(fix_year)\n\n\n# Count the number of missing values for each location\nmissing_values = data.isnull().sum()\nprint(missing_values)\n\n\n# Count the total number of non-missing values\ntotal_values = data.count().sum()\nprint(total_values)\n\n\n# Calculate the mean windspeed over all locations and times\nmean_windspeed = data.mean().mean()\nprint(mean_windspeed)\n\n# Calculate the min, max, mean, and standard deviation of windspeed for each location\nloc_stats = pd.DataFrame({'min': data.min(), 'max': data.max(), \n                          'mean': data.mean(), 'std': data.std()})\nprint(loc_stats)\n\n\n# Calculate the min, max, mean, and standard deviation of windspeed for each day\nday_stats = pd.DataFrame({'min': data.min(axis=1), 'max': data.max(axis=1), \n                          'mean': data.mean(axis=1), 'std': data.std(axis=1)})\nprint(day_stats)\n\n\n# Find the average windspeed in January for each location. Treat January 1961 and January 1962 both as January.\njanuary_data = data.loc[data.index.month == 1]\njanuary_mean = january_data.resample('M').mean()\njanuary_mean_windspeeds=january_mean.loc[:, 'RPT':'MAL'].mean()\nprint(january_mean_windspeeds)\n\n\n#Downsample the record to a yearly frequency for each location\nyearly_data = data.resample('AS').mean()\nprint(yearly_data)\n\n#Downsample the record to a monthly frequency for each location.\nmonthly_data = data.loc[:, 'RPT':'MAL'].resample('M').mean()\nprint(monthly_data)\n\n\n#Downsample the record to a weekly frequency for each location.\nweekly_data = data.loc[:, 'RPT':'MAL'].resample('W').mean()\nprint(weekly_data)\n\n#Calculate the min, max and mean windspeeds and standard deviations of the windspeeds across all locations for each week\nweek1_start = pd.Timestamp('1961-01-02')\nweek52_end = pd.Timestamp('1961-12-25')\nweek_data = data.loc[week1_start:week52_end].resample('W').agg(['min', 'max', 'mean', 'std'])\nprint(week_data)",
      "metadata": {},
      "execution_count": null,
      "outputs": []
    }
  ]
}