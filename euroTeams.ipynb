{
  "metadata": {
    "language_info": {
      "codemirror_mode": {
        "name": "python",
        "version": 3
      },
      "file_extension": ".py",
      "mimetype": "text/x-python",
      "name": "python",
      "nbconvert_exporter": "python",
      "pygments_lexer": "ipython3",
      "version": "3.8"
    },
    "kernelspec": {
      "name": "python",
      "display_name": "Python (Pyodide)",
      "language": "python"
    }
  },
  "nbformat_minor": 4,
  "nbformat": 4,
  "cells": [
    {
      "cell_type": "markdown",
      "source": "# Euro Teams ",
      "metadata": {}
    },
    {
      "cell_type": "code",
      "source": "import pandas as pd\n\n# Step 3: Read the CSV file and assign it to a variable called euro12\nurl = 'https://raw.githubusercontent.com/guipsamora/pandas_exercises/master/02_Filtering_%26_Sorting/Euro12/Euro_2012_stats_TEAM.csv'\neuro12 = pd.read_csv(url,sep=',')\n#print(euro12.head(10))\n\n# Step 4: Select only the Goal column\ngoals = euro12['Goals']\nprint('Goals:\\n', goals)\n\n\n# Step 5: How many team participated in the Euro2012?\nnum_teams = euro12.shape[0]\nprint('Number of teams:', num_teams)\n\n\n# Step 6: What is the number of columns in the dataset?\nnum_cols = euro12.shape[1]\nprint('Number of columns:', num_cols)\n\n\n# Step 7: View only the columns Team, Yellow Cards and Red Cards and assign them to a dataframe called discipline\ndiscipline = euro12[['Team', 'Yellow Cards', 'Red Cards']]\nprint('Discipline dataframe:\\n',discipline)\n\n\n# Step 8: Sort the teams by Red Cards, then to Yellow Cards\ndiscipline_redSorted = discipline.sort_values('Red Cards', ascending=True)\ndiscipline_YellowSorted = discipline.sort_values( 'Yellow Cards', ascending=True)\nprint('Discipline sorted dataframe:')\nprint(discipline_YellowSorted)\n\n\n# Step 9: Calculate the mean Yellow Cards given per Team\nmean_yellow_cards = euro12['Yellow Cards'].mean()\nprint('Mean Yellow Cards per Team:', mean_yellow_cards)\n\n\n# Step 10: Filter teams that scored more than 6 goals\nteams_with_morethansix_goals = euro12[euro12['Goals'] > 6]\nprint('Teams that scored more than 6 goals:\\n',teams_with_morethansix_goals)\n\n\n# Step 11: Select the teams that start with G\nteams_starting_with_G = euro12[euro12['Team'].str.startswith('G')]\nprint('Teams starting with G:\\n',teams_starting_with_G)\n\n\n# Step 12: Select the first 7 columns\nfirst_seven_columns = euro12.iloc[:, :7]\nprint('First 7 columns:\\n',first_seven_columns)\n\n\n# Step 13: Select all columns except the last 3\nall_except_last_three = euro12.iloc[:, :-3]\nprint('All columns except the last 3:\\n',all_except_last_three)\n\n\n# Step 14: Present only the Shooting Accuracy from England, Italy and Russia\nshooting_accuracy = euro12.loc[euro12['Team'].isin(['England', 'Italy', 'Russia']), ['Team', 'Shooting Accuracy']]\nprint('Shooting Accuracy from England, Italy, and Russia:\\n',shooting_accuracy)\n",
      "metadata": {},
      "execution_count": null,
      "outputs": []
    }
  ]
}