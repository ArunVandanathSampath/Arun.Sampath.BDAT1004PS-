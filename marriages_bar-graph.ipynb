{
  "metadata": {
    "language_info": {
      "codemirror_mode": {
        "name": "python",
        "version": 3
      },
      "file_extension": ".py",
      "mimetype": "text/x-python",
      "name": "python",
      "nbconvert_exporter": "python",
      "pygments_lexer": "ipython3",
      "version": "3.8"
    },
    "kernelspec": {
      "name": "python",
      "display_name": "Python (Pyodide)",
      "language": "python"
    }
  },
  "nbformat_minor": 4,
  "nbformat": 4,
  "cells": [
    {
      "cell_type": "markdown",
      "source": "Create a vertical bar chart comparing the number of marriages and \ndivorces per capita in the U.S. between 1900, 1950, and 2000.\nDon't forget to label your axes!",
      "metadata": {}
    },
    {
      "cell_type": "code",
      "source": "# Step 1: Import necessary libraries and load data into a pandas dataframe\nimport pandas as pd\nimport matplotlib.pyplot as plt\n\ndf = pd.read_csv(\"us-marriages-divorces-1867-2014.csv\", index_col=\"Year\")\n\n# Step 2: Filter dataframe to only include data for 1900, 1950, and 2000\ndf_filtered = df.loc[[1900, 1950, 2000], ['Marriages_per_1000', 'Divorces_per_1000']]\n\n# Step 3: Create vertical bar chart\nax = df_filtered.plot(kind='bar', figsize=(8,6), color=['b', 'r'])\n\n# Step 4: Add labels to x-axis, y-axis, and chart title\nax.set_xlabel(\"Year\")\nax.set_ylabel(\"Per capita\")\nax.set_title(\"Marriages and Divorces per capita in the U.S. (1900, 1950, and 2000)\")\n\n# Add legend\nax.legend([\"Marriages\", \"Divorces\"])\n\n# Show the plot\nplt.show()",
      "metadata": {},
      "execution_count": null,
      "outputs": []
    }
  ]
}