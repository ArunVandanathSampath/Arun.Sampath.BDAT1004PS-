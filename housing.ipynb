{
  "metadata": {
    "toc-showcode": true,
    "language_info": {
      "codemirror_mode": {
        "name": "python",
        "version": 3
      },
      "file_extension": ".py",
      "mimetype": "text/x-python",
      "name": "python",
      "nbconvert_exporter": "python",
      "pygments_lexer": "ipython3",
      "version": "3.8"
    },
    "kernelspec": {
      "name": "python",
      "display_name": "Python (Pyodide)",
      "language": "python"
    }
  },
  "nbformat_minor": 4,
  "nbformat": 4,
  "cells": [
    {
      "cell_type": "markdown",
      "source": "# Housing\nStep 1. Import the necessary libraries",
      "metadata": {
        "toc-hr-collapsed": true,
        "tags": []
      }
    },
    {
      "cell_type": "code",
      "source": "import pandas as pd\nimport numpy as np\n\n# Step 2: Create 3 different Series\nseries1 = pd.Series(np.random.randint(1, 5, size=100))\nseries2 = pd.Series(np.random.randint(1, 4, size=100))\nseries3 = pd.Series(np.random.randint(10000, 30001, size=100))\n\n# Step 3: Create a DataFrame by joining the Series by column\ndata = pd.DataFrame({'column1': series1, 'column2': series2, 'column3': series3})\n\n# Step 4: Change the name of the columns\ndata.columns = ['bedrs', 'bathrs', 'price_sqr_meter']\n\n# Step 5: Create a one column DataFrame with the values of the 3 Series\nbigcolumn = pd.concat([series1, series2, series3])\n",
      "metadata": {
        "tags": [],
        "trusted": true
      },
      "execution_count": 1,
      "outputs": []
    },
    {
      "cell_type": "markdown",
      "source": "Step 6. Ops it seems it is going only until index 99. Is it true?\n",
      "metadata": {
        "tags": []
      }
    },
    {
      "cell_type": "markdown",
      "source": "Yes. The max length of index is 99.",
      "metadata": {}
    },
    {
      "cell_type": "code",
      "source": "# Step 6: Check if bigcolumn goes up to index 99\nprint(bigcolumn.index.max())\n\n# Step 7: Reindex the DataFrame so it goes from 0 to 299\nbigcolumn = bigcolumn.reset_index(drop=True)\nbigcolumn = bigcolumn.reindex(range(300))\n\nprint(bigcolumn.index.max())",
      "metadata": {
        "tags": [],
        "trusted": true
      },
      "execution_count": 2,
      "outputs": [
        {
          "name": "stdout",
          "text": "99\n299\n",
          "output_type": "stream"
        }
      ]
    },
    {
      "cell_type": "code",
      "source": "",
      "metadata": {},
      "execution_count": null,
      "outputs": []
    }
  ]
}