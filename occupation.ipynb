{
  "cells": [
    {
      "attachments": {},
      "cell_type": "markdown",
      "metadata": {},
      "source": [
        "Step 1: Import required packages"
      ]
    },
    {
      "cell_type": "code",
      "execution_count": 1,
      "metadata": {
        "trusted": true
      },
      "outputs": [],
      "source": [
        "import pandas as pd"
      ]
    },
    {
      "cell_type": "code",
      "execution_count": 2,
      "metadata": {
        "trusted": true
      },
      "outputs": [],
      "source": [
        "url = \"https://raw.githubusercontent.com/justmarkham/DAT8/master/data/u.user\""
      ]
    },
    {
      "cell_type": "markdown",
      "metadata": {},
      "source": [
        "Step 3: Assign it to a variable called users"
      ]
    },
    {
      "cell_type": "code",
      "execution_count": 3,
      "metadata": {
        "tags": [],
        "trusted": true
      },
      "outputs": [
        {
          "name": "stdout",
          "output_type": "stream",
          "text": [
            "   user_id  age gender     occupation zip_code\n",
            "0        1   24      M     technician    85711\n",
            "1        2   53      F          other    94043\n",
            "2        3   23      M         writer    32067\n",
            "3        4   24      M     technician    43537\n",
            "4        5   33      F          other    15213\n",
            "5        6   42      M      executive    98101\n",
            "6        7   57      M  administrator    91344\n",
            "7        8   36      M  administrator    05201\n",
            "8        9   29      M        student    01002\n",
            "9       10   53      M         lawyer    90703\n"
          ]
        }
      ],
      "source": [
        "users = pd.read_csv(url, sep='|')\n",
        "print(users.head(10))"
      ]
    },
    {
      "cell_type": "markdown",
      "metadata": {},
      "source": [
        "Step 4: Discover what is the mean age per occupationStep 3: Assign it to a variable called users"
      ]
    },
    {
      "cell_type": "code",
      "execution_count": 4,
      "metadata": {
        "tags": [],
        "trusted": true
      },
      "outputs": [
        {
          "name": "stdout",
          "output_type": "stream",
          "text": [
            "       Occupation  Mean Age\n",
            "0   administrator        38\n",
            "1          artist        31\n",
            "2          doctor        43\n",
            "3        educator        42\n",
            "4        engineer        36\n",
            "5   entertainment        29\n",
            "6       executive        38\n",
            "7      healthcare        41\n",
            "8       homemaker        32\n",
            "9          lawyer        36\n",
            "10      librarian        40\n",
            "11      marketing        37\n",
            "12           none        26\n",
            "13          other        34\n",
            "14     programmer        33\n",
            "15        retired        63\n",
            "16       salesman        35\n",
            "17      scientist        35\n",
            "18        student        22\n",
            "19     technician        33\n",
            "20         writer        36\n"
          ]
        }
      ],
      "source": [
        "mean_age_by_occup = users.groupby('occupation')['age'].mean().astype(int).reset_index()\n",
        "mean_age_by_occup.columns = ['Occupation', 'Mean Age']\n",
        "print(mean_age_by_occup)"
      ]
    },
    {
      "cell_type": "markdown",
      "metadata": {},
      "source": [
        "Step 5: Discover the Male ratio per occupation and sort it from the most to the leastStep 3: Assign it to a variable called users"
      ]
    },
    {
      "cell_type": "code",
      "execution_count": 5,
      "metadata": {
        "tags": [],
        "trusted": true
      },
      "outputs": [
        {
          "name": "stdout",
          "output_type": "stream",
          "text": [
            "occupation\n",
            "doctor           1.000000\n",
            "engineer         0.970149\n",
            "technician       0.962963\n",
            "retired          0.928571\n",
            "programmer       0.909091\n",
            "executive        0.906250\n",
            "scientist        0.903226\n",
            "entertainment    0.888889\n",
            "lawyer           0.833333\n",
            "salesman         0.750000\n",
            "educator         0.726316\n",
            "student          0.693878\n",
            "other            0.657143\n",
            "marketing        0.615385\n",
            "writer           0.577778\n",
            "none             0.555556\n",
            "administrator    0.544304\n",
            "artist           0.535714\n",
            "librarian        0.431373\n",
            "healthcare       0.312500\n",
            "homemaker        0.142857\n",
            "Name: gender_numeric, dtype: float64\n"
          ]
        }
      ],
      "source": [
        "def gender_to_numeric(x):\n",
        "    if x == 'M':\n",
        "        return 1\n",
        "    if x == 'F':\n",
        "        return 0\n",
        "    \n",
        "users['gender_numeric'] = users['gender'].apply(gender_to_numeric)\n",
        "male_ratio_by_occup = users.groupby('occupation')['gender_numeric'].mean()\n",
        "male_ratio_by_occup_sorted = male_ratio_by_occup.sort_values(ascending=False)\n",
        "print(male_ratio_by_occup_sorted)"
      ]
    },
    {
      "cell_type": "markdown",
      "metadata": {},
      "source": [
        "Step 6: For each occupation, calculate the minimum and maximum agesStep 3: Assign it to a variable called users"
      ]
    },
    {
      "cell_type": "code",
      "execution_count": 6,
      "metadata": {
        "tags": [],
        "trusted": true
      },
      "outputs": [
        {
          "name": "stdout",
          "output_type": "stream",
          "text": [
            "       Occupation  Min Age  Max Age\n",
            "0   administrator       21       70\n",
            "1          artist       19       48\n",
            "2          doctor       28       64\n",
            "3        educator       23       63\n",
            "4        engineer       22       70\n",
            "5   entertainment       15       50\n",
            "6       executive       22       69\n",
            "7      healthcare       22       62\n",
            "8       homemaker       20       50\n",
            "9          lawyer       21       53\n",
            "10      librarian       23       69\n",
            "11      marketing       24       55\n",
            "12           none       11       55\n",
            "13          other       13       64\n",
            "14     programmer       20       63\n",
            "15        retired       51       73\n",
            "16       salesman       18       66\n",
            "17      scientist       23       55\n",
            "18        student        7       42\n",
            "19     technician       21       55\n",
            "20         writer       18       60\n"
          ]
        }
      ],
      "source": [
        "min_max_age_by_occup = users.groupby('occupation')['age'].agg(['min', 'max']).reset_index()\n",
        "min_max_age_by_occup.columns = ['Occupation', 'Min Age','Max Age']\n",
        "print(min_max_age_by_occup)"
      ]
    },
    {
      "cell_type": "markdown",
      "metadata": {},
      "source": [
        "Step 7: For each combination of occupation and sex, calculate the mean ageFor the default set of parameters, we see the trajectories swirling around two points, called attractors. "
      ]
    },
    {
      "cell_type": "code",
      "execution_count": 7,
      "metadata": {
        "tags": [],
        "trusted": true
      },
      "outputs": [
        {
          "name": "stdout",
          "output_type": "stream",
          "text": [
            "occupation     gender\n",
            "administrator  F         40\n",
            "               M         37\n",
            "artist         F         30\n",
            "               M         32\n",
            "doctor         M         43\n",
            "educator       F         39\n",
            "               M         43\n",
            "engineer       F         29\n",
            "               M         36\n",
            "entertainment  F         31\n",
            "               M         29\n",
            "executive      F         44\n",
            "               M         38\n",
            "healthcare     F         39\n",
            "               M         45\n",
            "homemaker      F         34\n",
            "               M         23\n",
            "lawyer         F         39\n",
            "               M         36\n",
            "librarian      F         40\n",
            "               M         40\n",
            "marketing      F         37\n",
            "               M         37\n",
            "none           F         36\n",
            "               M         18\n",
            "other          F         35\n",
            "               M         34\n",
            "programmer     F         32\n",
            "               M         33\n",
            "retired        F         70\n",
            "               M         62\n",
            "salesman       F         27\n",
            "               M         38\n",
            "scientist      F         28\n",
            "               M         36\n",
            "student        F         20\n",
            "               M         22\n",
            "technician     F         38\n",
            "               M         32\n",
            "writer         F         37\n",
            "               M         35\n",
            "Name: age, dtype: int32\n"
          ]
        }
      ],
      "source": [
        "mean_age_by_occupation_and_gender = users.groupby(['occupation', 'gender'])['age'].mean().astype(int)\n",
        "mean_age_by_occupation_and_gender.columns =['Occupation', 'Min Age','Max Age']\n",
        "print(mean_age_by_occupation_and_gender)"
      ]
    },
    {
      "cell_type": "markdown",
      "metadata": {},
      "source": [
        "Step 8: For each occupation present the percentage of women and menFor the default set of parameters, we see the trajectories swirling around two points, called attractors. "
      ]
    },
    {
      "cell_type": "code",
      "execution_count": 8,
      "metadata": {
        "tags": [],
        "trusted": true
      },
      "outputs": [
        {
          "name": "stdout",
          "output_type": "stream",
          "text": [
            "       Occupation     Female        Male\n",
            "0   administrator  45.569620   54.430380\n",
            "1          artist  46.428571   53.571429\n",
            "2          doctor        NaN  100.000000\n",
            "3        educator  27.368421   72.631579\n",
            "4        engineer   2.985075   97.014925\n",
            "5   entertainment  11.111111   88.888889\n",
            "6       executive   9.375000   90.625000\n",
            "7      healthcare  68.750000   31.250000\n",
            "8       homemaker  85.714286   14.285714\n",
            "9          lawyer  16.666667   83.333333\n",
            "10      librarian  56.862745   43.137255\n",
            "11      marketing  38.461538   61.538462\n",
            "12           none  44.444444   55.555556\n",
            "13          other  34.285714   65.714286\n",
            "14     programmer   9.090909   90.909091\n",
            "15        retired   7.142857   92.857143\n",
            "16       salesman  25.000000   75.000000\n",
            "17      scientist   9.677419   90.322581\n",
            "18        student  30.612245   69.387755\n",
            "19     technician   3.703704   96.296296\n",
            "20         writer  42.222222   57.777778\n"
          ]
        }
      ],
      "source": [
        "gender_count_by_occup = users.groupby(['occupation', 'gender'])['gender'].count().unstack()\n",
        "total_count_by_occup = users.groupby('occupation')['gender'].count()\n",
        "gender_percent_by_occup = gender_count_by_occup.divide(total_count_by_occup, axis=0).multiply(100).reset_index()\n",
        "gender_percent_by_occup.columns = ['Occupation','Female', 'Male']\n",
        "print(gender_percent_by_occup)"
      ]
    }
  ],
  "metadata": {
    "kernelspec": {
      "display_name": "base",
      "language": "python",
      "name": "python3"
    },
    "language_info": {
      "codemirror_mode": {
        "name": "ipython",
        "version": 3
      },
      "file_extension": ".py",
      "mimetype": "text/x-python",
      "name": "python",
      "nbconvert_exporter": "python",
      "pygments_lexer": "ipython3",
      "version": "3.10.9"
    }
  },
  "nbformat": 4,
  "nbformat_minor": 4
}
